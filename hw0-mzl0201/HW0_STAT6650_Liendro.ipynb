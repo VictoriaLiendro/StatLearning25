{
  "nbformat": 4,
  "nbformat_minor": 0,
  "metadata": {
    "colab": {
      "provenance": []
    },
    "kernelspec": {
      "name": "python3",
      "display_name": "Python 3"
    },
    "language_info": {
      "name": "python"
    }
  },
  "cells": [
    {
      "cell_type": "code",
      "source": [
        "from numpy import random, dot\n"
      ],
      "metadata": {
        "id": "BSv1HfTWpeXr"
      },
      "execution_count": 8,
      "outputs": []
    },
    {
      "cell_type": "markdown",
      "source": [
        "1)"
      ],
      "metadata": {
        "id": "OLYEh0HZoYWh"
      }
    },
    {
      "cell_type": "code",
      "execution_count": 2,
      "metadata": {
        "id": "eLzYdkc5oSc6"
      },
      "outputs": [],
      "source": [
        "def draw_samples(n):\n",
        "  x = random.choice([1,0,-1], p=[0.35, 0.45, 0.2], size=(n))\n",
        "  return x\n"
      ]
    },
    {
      "cell_type": "code",
      "source": [
        "print(draw_samples(20))"
      ],
      "metadata": {
        "colab": {
          "base_uri": "https://localhost:8080/"
        },
        "id": "2o1PSlMqpdyI",
        "outputId": "ffd8dc88-fd95-48ec-9a03-269f92b31eaa"
      },
      "execution_count": 5,
      "outputs": [
        {
          "output_type": "stream",
          "name": "stdout",
          "text": [
            "[ 0  0  1  0  1  0 -1  0  0  1  1  0  1  0 -1  1 -1  0 -1  0]\n"
          ]
        }
      ]
    },
    {
      "cell_type": "markdown",
      "source": [
        "2)"
      ],
      "metadata": {
        "id": "sIgnTkx9p9Rx"
      }
    },
    {
      "cell_type": "code",
      "source": [
        "def sum_squares(a):\n",
        "  x = dot(a,a)\n",
        "  return x"
      ],
      "metadata": {
        "id": "yLI-ztlPophg"
      },
      "execution_count": 6,
      "outputs": []
    },
    {
      "cell_type": "code",
      "source": [
        "a = [1,2,3,4]\n",
        "print(sum_squares(a))"
      ],
      "metadata": {
        "colab": {
          "base_uri": "https://localhost:8080/"
        },
        "id": "u_Hui2V8qsoz",
        "outputId": "62a86130-ab9a-411f-e087-0767c0b5f27c"
      },
      "execution_count": 11,
      "outputs": [
        {
          "output_type": "stream",
          "name": "stdout",
          "text": [
            "30\n"
          ]
        }
      ]
    },
    {
      "cell_type": "markdown",
      "source": [
        "3)"
      ],
      "metadata": {
        "id": "dt_Nnqubq8iq"
      }
    },
    {
      "cell_type": "code",
      "source": [
        "def troublemakers(n):\n",
        "  a = 1 #liquid in the apple juice cup\n",
        "  m = 1 #liquid in the milkshake cup\n",
        "  for _ in range(n):\n",
        "    a_pass = 0.35*a #liquid in the apple juice cup to pass\n",
        "    a = a - a_pass #update a value\n",
        "    m = m + a_pass\n",
        "    m_pass = 0.20*m #liquid in the milkshake cup to pass\n",
        "    m = m - m_pass\n",
        "    a = a + m_pass\n",
        "\n",
        "  return [a , m]"
      ],
      "metadata": {
        "id": "-r1d8b-grKPH"
      },
      "execution_count": 15,
      "outputs": []
    },
    {
      "cell_type": "code",
      "source": [
        "print(troublemakers(1))"
      ],
      "metadata": {
        "colab": {
          "base_uri": "https://localhost:8080/"
        },
        "id": "C5qwGanntEqY",
        "outputId": "019115e8-ae0c-4695-c3ab-dd394b6fa03f"
      },
      "execution_count": 16,
      "outputs": [
        {
          "output_type": "stream",
          "name": "stdout",
          "text": [
            "[0.92, 1.08]\n"
          ]
        }
      ]
    }
  ]
}